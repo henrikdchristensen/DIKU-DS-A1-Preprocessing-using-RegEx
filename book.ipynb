{
 "cells": [
  {
   "cell_type": "markdown",
   "id": "66637a27-9d30-4c49-bad0-c9ac587ef419",
   "metadata": {
    "tags": []
   },
   "source": [
    "# Part 1: Regular expression warmup"
   ]
  },
  {
   "cell_type": "markdown",
   "id": "a01b8cad-ae45-4652-b7a3-95252e573418",
   "metadata": {},
   "source": [
    "In these questions, you are expected to use functionality from the Python regular expression module: re."
   ]
  },
  {
   "cell_type": "markdown",
   "id": "66bdbdc1-8c3e-4407-954a-828b0919ec79",
   "metadata": {
    "jp-MarkdownHeadingCollapsed": true,
    "tags": []
   },
   "source": [
    "## Used libraries"
   ]
  },
  {
   "cell_type": "code",
   "execution_count": 113,
   "id": "5f322997-d5bb-4442-a20d-33c33843b56d",
   "metadata": {
    "tags": []
   },
   "outputs": [],
   "source": [
    "import re\n",
    "import pandas as pd\n",
    "from cleantext import clean\n",
    "from nltk.corpus import stopwords\n",
    "from collections import Counter\n",
    "import matplotlib.pyplot as plt\n",
    "import random"
   ]
  },
  {
   "cell_type": "markdown",
   "id": "6b037f4d-0ff0-4d92-b5ca-183bbb6ac1bb",
   "metadata": {
    "jp-MarkdownHeadingCollapsed": true,
    "tags": []
   },
   "source": [
    "## a)"
   ]
  },
  {
   "cell_type": "markdown",
   "id": "129afeb2-6db1-43af-bbcd-dc4f76682c63",
   "metadata": {},
   "source": [
    "Danish CPR numbers consist of a six-digit date (DDMMYY), followed by a 4 digit identifier (IIII). Using the re module, the task is to write and apply a regular expression that matches any CPR number, either in the DDMMYYIIII format, or in the DDMMYY-IIII format. The regular expression should contain four groups, such that the DD, MM, YY, and IIII parts can be extracted after matching."
   ]
  },
  {
   "cell_type": "code",
   "execution_count": 114,
   "id": "373b036a-63ba-4e19-93dc-d942834c0d66",
   "metadata": {
    "tags": []
   },
   "outputs": [],
   "source": [
    "def extract_cpr_parts(cpr_number):\n",
    "    return re.findall(r\"\"\"\n",
    "                         (\\d{2}) # DD-part\n",
    "                         (\\d{2}) # MM-part\n",
    "                         (\\d{2}) # YY-part\n",
    "                         -?\n",
    "                         (\\d{4}) # IIII-part\n",
    "                         \"\"\",\n",
    "                      cpr_number, re.X) # re.X for writing comments to pattern and makes it looks nicer!"
   ]
  },
  {
   "cell_type": "markdown",
   "id": "932fec5b-c8a9-412c-9be5-ce39b60e3d23",
   "metadata": {
    "tags": []
   },
   "source": [
    "### Test:"
   ]
  },
  {
   "cell_type": "code",
   "execution_count": 115,
   "id": "7316b11b",
   "metadata": {
    "tags": []
   },
   "outputs": [],
   "source": [
    "#print(extract_cpr_parts(\"0302941048\"))"
   ]
  },
  {
   "cell_type": "markdown",
   "id": "32fe429d-094b-45ef-8168-2a8ec18f32b7",
   "metadata": {},
   "source": [
    "## b)"
   ]
  },
  {
   "cell_type": "markdown",
   "id": "84a6602e-1686-4e16-b3aa-cf8b428a2444",
   "metadata": {},
   "source": [
    "The 4-digit identifier together with the last two digits of the date (i.e. the year), encodes in which century a person is born, using the following system\n",
    "\n",
    "|     IIII         |     YY       |     Born in century    |\n",
    "|------------------|--------------|------------------------|\n",
    "|     0001-3999    |     00-99    |     1900               |\n",
    "|     4000-4999    |     00-36    |     2000               |\n",
    "|     4000-4999    |     37-99    |     1900               |\n",
    "|     5000-8999    |     00-57    |     2000               |\n",
    "|     5000-8999    |     58-99    |     1800               |\n",
    "|     9000-9999    |     00-36    |     2000               |\n",
    "|     9000-9999    |     37-99    |     1900               |\n",
    "\n",
    "Note that in this table, both numbers in a range are included (e.g. 00-99 includes both 00 and 99).\n",
    "\n",
    "Write a function that returns the relevant century based on the information in the table above, and returns either 1800, 1900 or 2000 (as an integer)."
   ]
  },
  {
   "cell_type": "code",
   "execution_count": 116,
   "id": "29b25b57-741c-432a-adc9-f706fa2510b3",
   "metadata": {
    "tags": []
   },
   "outputs": [],
   "source": [
    "def find_century(identifier, year):\n",
    "    conditions = {\n",
    "        #IIII              #YEAR\n",
    "        (range(1   ,3999), range(0 ,99)): 1900,\n",
    "        (range(4000,4999), range(0 ,36)): 2000,\n",
    "        (range(4000,4999), range(37,99)): 1900,\n",
    "        (range(5000,8999), range(0 ,57)): 2000,\n",
    "        (range(5000,8999), range(58,99)): 1800,\n",
    "        (range(9000,9999), range(0 ,36)): 2000,\n",
    "        (range(9000,9999), range(37,99)): 1900,\n",
    "    }\n",
    "    \n",
    "    # Loopt through each element in dictionary and check if they match the given identifier\n",
    "    for c, century in conditions.items():\n",
    "        if identifier in c[0] and year in c[1]: # c[0] specified IIII, c[1] specified year\n",
    "            return century\n",
    "    return None"
   ]
  },
  {
   "cell_type": "markdown",
   "id": "4afab628-664e-4dde-925c-75ae8d8805dc",
   "metadata": {
    "tags": []
   },
   "source": [
    "# Part 2: Processing the FakeNewsCorpus data set"
   ]
  },
  {
   "cell_type": "markdown",
   "id": "aadce64e-f841-4783-9b96-22d92b8359c2",
   "metadata": {},
   "source": [
    "This exercise is focused on getting the FakeNewsCorpus dataset in a reasonable shape, and doing some initial exploration of the data. This should be directly useful for your final project. We will be working on a sample of the FakeNews corpus: <a href=\"https://raw.githubusercontent.com/several27/FakeNewsCorpus/master/news_sample.csv\" target=\"_blank\" class=\"external\" rel=\"noreferrer noopener\">"
   ]
  },
  {
   "cell_type": "markdown",
   "id": "0e3f1ae8-d076-49b9-9676-6da742f5899c",
   "metadata": {
    "tags": []
   },
   "source": [
    "## 1) Read the CSV file"
   ]
  },
  {
   "cell_type": "code",
   "execution_count": 117,
   "id": "95447e2a-5995-4c78-b385-5d32c98216d5",
   "metadata": {
    "tags": []
   },
   "outputs": [],
   "source": [
    "# Load/read the csv file into a panda DataFrame\n",
    "df = pd.read_csv('news_sample.csv')"
   ]
  },
  {
   "cell_type": "markdown",
   "id": "e7c287ee-b344-4e15-86e7-307644a3a7cb",
   "metadata": {
    "tags": []
   },
   "source": [
    "## 2) Manually inspect the data to get an idea of potential problems of the data structure and representation that need to be fixed."
   ]
  },
  {
   "cell_type": "markdown",
   "id": "6a08d12e-79f9-43b8-9fbb-22c00124efa0",
   "metadata": {},
   "source": [
    "Some of the \"type\" are missing, meaning we cannot determine some of the types of news."
   ]
  },
  {
   "cell_type": "markdown",
   "id": "23744ed2-28f0-425c-a57c-377e96a645d3",
   "metadata": {},
   "source": [
    "## 3) Clean the data"
   ]
  },
  {
   "cell_type": "markdown",
   "id": "736d3c7b-dabe-4385-8065-4f44b622a3ab",
   "metadata": {
    "tags": []
   },
   "source": [
    "### Clean data manually:"
   ]
  },
  {
   "cell_type": "markdown",
   "id": "fffe3341-0e30-442a-a5a3-000a06418957",
   "metadata": {
    "tags": []
   },
   "source": [
    "First, we'll try to do this manually, by writing our own clean_text() function that uses regular expressions. The function should take raw text as input and return a version of the text with the following modifications:\n",
    "<ul>\n",
    "<li>all words must be lowercased</li>\n",
    "<li>it should not contain multiple white spaces, tabs, or new lines</li>\n",
    "<li>numbers, dates, emails, and URLs should be replaced by \"&lt;NUM&gt;\", \"&lt;DATE&gt;\", \"&lt;EMAIL&gt;\" AND \"&lt;URL&gt;\", respectively. Note that replacing dates with &lt;DATE&gt; is particularly tricky as dates can be expressed in many forms. You may just choose one or a few common date formats present in the data set and only replace those. (Be careful about tokenizing &lt;&gt; symbols because these are punctuation in most Tokenizers).</li>\n",
    "</ul>"
   ]
  },
  {
   "cell_type": "code",
   "execution_count": 118,
   "id": "28864b6d-d987-4754-a703-0d60d295887d",
   "metadata": {
    "tags": []
   },
   "outputs": [],
   "source": [
    "def clean_text_man(df):\n",
    "    # Dictionary of patterns and their appreciate replacements\n",
    "    dict_patterns = {\n",
    "        r'(\\s{2,})': ' ',\n",
    "        r'(\\t+)': '(\\t)',\n",
    "        r'(\\n+)': '(\\n)',\n",
    "        r'(\\d{1,2}[-/\\\\]\\d{1,2}[-/\\\\]\\d{2,4}|\\d{2,4}[-/\\\\]\\d{1,2}[-/\\\\]\\d{1,2})|\\w{3}\\s\\d{1,2}[\\s,]\\d{4}|\\d{1,2}\\s\\w{3}\\s\\d{4}|(?:jan(?:uary)?|feb(?:ruary)|mar(?:ch)?|apr(?:il)?|may|jun(?:e)?|jul(?:y)?|aug(?:ust)?|sep(?:tember)?|oct(?:ober)?|nov(?:ember)?|dec(?:ember)?)[\\s,]\\d{2}[\\s,]\\d{2,4}|\\d{2}[\\s,](?:jan(?:uary)?|feb(?:ruary)|mar(?:ch)?|apr(?:il)?|may|jun(?:e)?|jul(?:y)?|aug(?:ust)?|sep(?:tember)?|oct(?:ober)?|nov(?:ember)?|dec(?:ember)?)[\\s,]\\d{2,4}': ' <DATE> ',\n",
    "        r'([\\w.\\-]+@(?:[\\w-]+\\.)+[\\w-]{2,4})': '<EMAIL>',\n",
    "        r'(https?:\\/\\/(?:www\\.)?[a-zA-Z0-9-_\\+=.:~@#%]+\\.[a-zA-Z0-9()]{1,6}\\b(?:[a-zA-Z0-9-_.:\\\\/@#$%&()=+~]*))': '<URL>',\n",
    "        r'(?<=\\s)(-?[0-9]\\d*[.,]?\\d+)(?=\\s)': '<NUM>',\n",
    "    }\n",
    "\n",
    "    # Lower case each word element-wise\n",
    "    df = df.applymap(lambda x: x.lower() if type(x) == str else x)\n",
    "    \n",
    "    # Loop through each pattern and apply the pattern to each column and do replacement if needed\n",
    "    for pattern, replacement in dict_patterns.items():\n",
    "        df = df.applymap(lambda x: re.sub(pattern, replacement, str(x)))\n",
    "    \n",
    "    return df"
   ]
  },
  {
   "cell_type": "code",
   "execution_count": 119,
   "id": "9ed4040e",
   "metadata": {},
   "outputs": [],
   "source": [
    "cleaned_content_man = clean_text_man(df)"
   ]
  },
  {
   "cell_type": "markdown",
   "id": "670dd89b-77fb-418d-bd98-f6ab365f4f86",
   "metadata": {},
   "source": [
    "### Clean data using library:"
   ]
  },
  {
   "cell_type": "markdown",
   "id": "6c3f6a94-44df-42f4-9f09-3330ca309829",
   "metadata": {},
   "source": [
    "Now, let's try to use a library for cleaning the data. The clean-text module (<a class=\"instructure_file_link inline_disabled external\" href=\"https://pypi.org/project/clean-text/\" target=\"_blank\"><span>https://pypi.org/project/clean-text/</span></a>) provides out-of-the-box functionality for much of the cleaning we did in the previous exercise (<span id=\"pip-command\">pip install clean-text</span>). Use it to implement the same cleaning steps as in your own clean_text implementation."
   ]
  },
  {
   "cell_type": "code",
   "execution_count": 120,
   "id": "eb290248-fc2a-48a7-b76f-e7f49a17552e",
   "metadata": {
    "tags": []
   },
   "outputs": [],
   "source": [
    "def clean_text_auto(df):\n",
    "    return df.applymap(lambda x: clean(x,\n",
    "                                        lower=True,                    # lowercase text\n",
    "                                        # fully strip line breaks as opposed to only normalizing them\n",
    "                                        no_line_breaks=True,\n",
    "                                        no_urls=True,                  # replace all URLs with <url>\n",
    "                                        no_emails=True,                # replace all email addresses with <email>\n",
    "                                        no_numbers=True,               # replace all numbers with <num>\n",
    "                                        replace_with_url=\"<URL>\",\n",
    "                                        replace_with_email=\"<EMAIL>\",\n",
    "                                        replace_with_number=\"<NUM>\",\n",
    "                                        lang=\"en\"\n",
    "                                        ))"
   ]
  },
  {
   "cell_type": "code",
   "execution_count": 121,
   "id": "1f78408d",
   "metadata": {},
   "outputs": [],
   "source": [
    "cleaned_content_auto = clean_text_auto(df)"
   ]
  },
  {
   "cell_type": "markdown",
   "id": "a04f0b9a-a6d9-4306-a3ad-f409479d1e3e",
   "metadata": {
    "tags": []
   },
   "source": [
    "# Part 3: Descriptive frequency analysis of the data"
   ]
  },
  {
   "cell_type": "markdown",
   "id": "98b7e77a-deb6-4914-9960-038db53db511",
   "metadata": {
    "tags": []
   },
   "source": [
    "Now, we will do some simple exploration of the data to understand the effect of preprocessing conducted in part 2, the vocabulary, and the frequency distribution of the vocabulary across documents."
   ]
  },
  {
   "cell_type": "markdown",
   "id": "8d73cd8f-7dda-41e7-9b9c-01425be7c6a7",
   "metadata": {
    "tags": []
   },
   "source": [
    "## 1) Calculate the number of unique words in the data after preprocessing and compare it to the number of unique words before preprocessing (i.e. in the raw data)."
   ]
  },
  {
   "cell_type": "code",
   "execution_count": 122,
   "id": "86f23652-fa05-4981-ab4c-9b1477f4c3e2",
   "metadata": {},
   "outputs": [],
   "source": [
    "def count_unique_words(df):\n",
    "    # Create a set since each object must be distinct\n",
    "    unique_words = set()\n",
    "    # Loop through each element in dataframe\n",
    "    for index, row in df.iterrows():\n",
    "        for value in row:\n",
    "            if type(value) == str:\n",
    "                # Split string and remove special characters at start and end of the string\n",
    "                words = value.split()\n",
    "                # Loop through each word and remove any trailing and leading characters\n",
    "                for i in range(len(words)):\n",
    "                    words[i] = words[i].rstrip(',.()\"?:`´”“-–[]').lstrip(',.()\"?:`´”“-–[]')\n",
    "                # Update the set of unique strings\n",
    "                unique_words.update(words)\n",
    "    # Return the list of unique words\n",
    "    return unique_words"
   ]
  },
  {
   "cell_type": "code",
   "execution_count": 123,
   "id": "f74e2aed",
   "metadata": {},
   "outputs": [
    {
     "name": "stdout",
     "output_type": "stream",
     "text": [
      "Number of unique words: Before=23230; After=19652\n"
     ]
    }
   ],
   "source": [
    "# Count unique words before and after processing\n",
    "unique_words_before = count_unique_words(df)\n",
    "unique_words_after = count_unique_words(cleaned_content_man)\n",
    "\n",
    "print('Number of unique words: Before={:d}; After={:d}'.format(\n",
    "    len(unique_words_before), len(unique_words_after)))"
   ]
  },
  {
   "cell_type": "markdown",
   "id": "a268c03d-b19e-4781-8fa0-c0bb406e743f",
   "metadata": {},
   "source": [
    "## 2) Calculate how frequently each of these words is used in the dataset. Sort this list, so that the most frequent word appears first, and then use Python's matplotlib library to plot a barplot where the 50 most frequent words appear on the x-axis, and their frequency appears on the y-axis."
   ]
  },
  {
   "attachments": {},
   "cell_type": "markdown",
   "id": "3b49ffbc-c11d-49d8-8f9c-65f6bd4ab539",
   "metadata": {},
   "source": [
    "### !! Please note the following.\n",
    "Stopwords are moved in the following using NLTK's stopwords.words() method.\n",
    "See 10 randomly stopwords from the method below.\n",
    "In addition, I have also removed some words that I also see as unimportant - useless data that are not captured during pre-processing.\n",
    "One could argue that even more of these words should be ignored."
   ]
  },
  {
   "cell_type": "code",
   "execution_count": 124,
   "id": "c8cfdde6-046a-457f-8843-328594232c18",
   "metadata": {},
   "outputs": [
    {
     "name": "stdout",
     "output_type": "stream",
     "text": [
      "aren, her, so, can, shouldn, they, those, having, needn, the\n"
     ]
    }
   ],
   "source": [
    "print(', '.join(random.sample(stopwords.words(\"english\"), 10)))"
   ]
  },
  {
   "cell_type": "markdown",
   "id": "fb500cb6-9bb9-422a-aaee-a416fd33d3c8",
   "metadata": {},
   "source": [
    "### Plot the 50 most frequent words"
   ]
  },
  {
   "cell_type": "code",
   "execution_count": 125,
   "id": "5ff8492a-3575-4959-ad3e-45e9f9bd3fa2",
   "metadata": {
    "tags": []
   },
   "outputs": [],
   "source": [
    "def word_frequency(df):\n",
    "    # Split and remove stopwords (useless data)\n",
    "    stopWords = stopwords.words(\"english\")\n",
    "    extraUselessWords = ['nan', '<NUM>:<NUM>:<NUM>', '–', '&', '['']', '—', '01:19:41.756632', '01:19:41.756664', '16:17:44.789555']\n",
    "    wordsToIgnore = stopWords + extraUselessWords\n",
    "    \n",
    "    # Split each cell into a complete list of words and remove any words to ignore\n",
    "    df.applymap(lambda x: [word for word in x.split() if not word in wordsToIgnore])\n",
    "    \n",
    "    # Count the frequency of each word\n",
    "    frequency = Counter()\n",
    "    # Update the list of how frequent each words occurs\n",
    "    df.applymap(lambda x: frequency.update(x))\n",
    "    \n",
    "    # Sort the dictionary based on the frequency of each word\n",
    "    return sorted(frequency.items(), key=lambda x: x[1], reverse=True)\n"
   ]
  },
  {
   "cell_type": "code",
   "execution_count": 126,
   "id": "2407d459",
   "metadata": {},
   "outputs": [],
   "source": [
    "def plot_word_frequency(sorted_frequency):\n",
    "    # Number of words to list of frequency\n",
    "    nwords = 50\n",
    "\n",
    "    # Extract the words and their frequency from the sorted list\n",
    "    words = [x[0] for x in sorted_frequency[:nwords]]\n",
    "    frequency = [x[1] for x in sorted_frequency[:nwords]]\n",
    "\n",
    "    # Plot a barplot using matplotlib\n",
    "    plt.bar(words, frequency)\n",
    "    plt.ylabel('Frequency')\n",
    "    plt.title('Frequency of the 50 most frequent words')\n",
    "    plt.xticks(rotation=90)\n",
    "    plt.show()"
   ]
  },
  {
   "cell_type": "code",
   "execution_count": 127,
   "id": "cb81a8f7",
   "metadata": {},
   "outputs": [
    {
     "data": {
      "image/png": "[encoded data removed]",
      "text/plain": [
       "<Figure size 640x480 with 1 Axes>"
      ]
     },
     "metadata": {},
     "output_type": "display_data"
    }
   ],
   "source": [
    "sorted_frequency = word_frequency(cleaned_content_man)\n",
    "plot_word_frequency(sorted_frequency)"
   ]
  }
 ],
 "metadata": {
  "kernelspec": {
   "display_name": "ku-env-kernel",
   "language": "python",
   "name": "ku-env-kernel"
  },
  "language_info": {
   "codemirror_mode": {
    "name": "ipython",
    "version": 3
   },
   "file_extension": ".py",
   "mimetype": "text/x-python",
   "name": "python",
   "nbconvert_exporter": "python",
   "pygments_lexer": "ipython3",
   "version": "3.11.0"
  }
 },
 "nbformat": 4,
 "nbformat_minor": 5
}
